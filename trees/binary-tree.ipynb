{
 "cells": [
  {
   "cell_type": "markdown",
   "id": "b845848c-d86d-4c47-8cb7-3916cc9b0842",
   "metadata": {},
   "source": [
    "# Binary Tree \n",
    "\n",
    "## What is a Binary Tree?\n",
    "- A Binary Tree is a hierarchical data structure in which each node has at most two child nodes.\n",
    "- These child nodes are typically referred to as the left child and the right child.\n",
    "- Unlike a Binary Search Tree, a Binary Tree does not enforce any ordering property on the node values.\n",
    "\n",
    "## Properties of a Binary Tree\n",
    "- Each node can have:\n",
    "  - Zero, one, or two child nodes.\n",
    "- The topmost node is called the root.\n",
    "- Nodes with no children are called leaf nodes.\n",
    "- Binary Trees can be classified based on their structure:\n",
    "  - Full Binary Tree: Every node has either 0 or 2 children.\n",
    "  - Complete Binary Tree: All levels are fully filled except possibly the last, which is filled from left to right.\n",
    "  - Perfect Binary Tree: All internal nodes have exactly two children, and all leaves are at the same level.\n",
    "  - Balanced Binary Tree: The height difference between the left and right subtrees of any node is minimal.\n",
    "  - Degenerate (or Skewed) Tree: Each parent node has only one child, forming a structure similar to a linked list.\n",
    "\n",
    "## Common Operations on a Binary Tree\n",
    "- Insertion: Typically done level by level (depending on the tree type).\n",
    "- Deletion: Removes a node and restructures the tree accordingly.\n",
    "- Traversal Methods:\n",
    "  - Inorder Traversal: Left subtree → Root → Right subtree.\n",
    "  - Preorder Traversal: Root → Left subtree → Right subtree.\n",
    "  - Postorder Traversal: Left subtree → Right subtree → Root.\n",
    "  - Level Order Traversal: Traverses the tree level by level from top to bottom.\n",
    "\n",
    "## Advantages of Binary Trees\n",
    "- Provides hierarchical storage and easy representation of relationships.\n",
    "- Efficient for tree-based algorithms like expression parsing, decision trees, and tree-based search methods.\n",
    "- Supports dynamic insertion and deletion.\n",
    "\n",
    "## Limitations of Binary Trees\n",
    "- Traversal can be more complex compared to linear structures.\n",
    "- Searching in a general binary tree can take O(n) time, as there is no ordering constraint.\n",
    "- Unbalanced trees can lead to inefficient structures that resemble linked lists.\n",
    "\n",
    "## Summary\n",
    "- A Binary Tree is a general tree structure where each node has at most two children.\n",
    "- It does not impose any ordering on the node values.\n",
    "- Binary Trees form the basis for more specialized trees such as Binary Search Trees, Heaps, and Expression Trees.\n",
    "- They are widely used in applications such as hierarchical storage, parsing expressions, and representing relationships in structured data.\n"
   ]
  },
  {
   "cell_type": "markdown",
   "id": "6b18310a-298a-4e11-ab6e-0ab2399ddb6c",
   "metadata": {},
   "source": [
    "# Question\n",
    "Implement a **Binary Tree** with all of its properties, and show its usage with an example.  "
   ]
  },
  {
   "cell_type": "code",
   "execution_count": 18,
   "id": "ed99a34f-7c4e-41c2-a83f-f6359ae207e5",
   "metadata": {},
   "outputs": [],
   "source": [
    "#Here's a simple class representing a node within a binary tree\n",
    "\n",
    "class TreeNode():\n",
    "    def __init__(self,key):\n",
    "        self.key = key\n",
    "        self.left = None\n",
    "        self.right = None"
   ]
  },
  {
   "cell_type": "code",
   "execution_count": 3,
   "id": "2978d1f1-e0fc-4ee8-94a7-3c4fc2d9c8ca",
   "metadata": {},
   "outputs": [],
   "source": [
    "node0 = TreeNode(3)\n",
    "node1 = TreeNode(4)\n",
    "node2 = TreeNode(5)"
   ]
  },
  {
   "cell_type": "code",
   "execution_count": 4,
   "id": "ef1c3d8c-9522-4c23-82fe-395ca099e748",
   "metadata": {},
   "outputs": [
    {
     "data": {
      "text/plain": [
       "<__main__.TreeNode at 0x7fffd3c79550>"
      ]
     },
     "execution_count": 4,
     "metadata": {},
     "output_type": "execute_result"
    }
   ],
   "source": [
    "node0"
   ]
  },
  {
   "cell_type": "code",
   "execution_count": 5,
   "id": "f30be23d-4e63-40d1-9789-8916de3bca7b",
   "metadata": {},
   "outputs": [
    {
     "data": {
      "text/plain": [
       "3"
      ]
     },
     "execution_count": 5,
     "metadata": {},
     "output_type": "execute_result"
    }
   ],
   "source": [
    "node0.key"
   ]
  },
  {
   "cell_type": "code",
   "execution_count": 6,
   "id": "75ef0c96-0816-426a-9123-b8d35c7ebaee",
   "metadata": {},
   "outputs": [],
   "source": [
    "node1.left = node0\n",
    "node1.right = node2"
   ]
  },
  {
   "cell_type": "code",
   "execution_count": 7,
   "id": "d65b124a-7067-4f1e-b283-08eb5e5a2f6d",
   "metadata": {},
   "outputs": [],
   "source": [
    "# Now we create a pointer that is used to track the positions of the elements\n",
    "pointer = node1"
   ]
  },
  {
   "cell_type": "code",
   "execution_count": 8,
   "id": "a521b8bb-49a1-4009-aaca-ea59aa16d179",
   "metadata": {},
   "outputs": [
    {
     "data": {
      "text/plain": [
       "4"
      ]
     },
     "execution_count": 8,
     "metadata": {},
     "output_type": "execute_result"
    }
   ],
   "source": [
    "pointer.key"
   ]
  },
  {
   "cell_type": "code",
   "execution_count": 9,
   "id": "0124db66-0462-4eee-b763-ba5d94693101",
   "metadata": {},
   "outputs": [
    {
     "data": {
      "text/plain": [
       "3"
      ]
     },
     "execution_count": 9,
     "metadata": {},
     "output_type": "execute_result"
    }
   ],
   "source": [
    "pointer.left.key"
   ]
  },
  {
   "cell_type": "markdown",
   "id": "60130d0d-72b3-4079-ac5f-f3ad621929ca",
   "metadata": {},
   "source": [
    "Manually Adding Data can be tedious, therefore, we design a helper function, which can convert a tuple with the structure (left_subtree,key,right_subtree), **Where left_subtree and right sub_tree are themselves tuples**, into a binary tree. "
   ]
  },
  {
   "cell_type": "code",
   "execution_count": 10,
   "id": "0cbf0026-8cff-45f1-986b-c01db585b634",
   "metadata": {},
   "outputs": [],
   "source": [
    "tree_tuple = ((1,3,None),2,((None,3,4),5,(6,7,8)))"
   ]
  },
  {
   "cell_type": "code",
   "execution_count": 11,
   "id": "80f7cd78-cceb-46be-bad0-01a9a7615e43",
   "metadata": {},
   "outputs": [],
   "source": [
    "def parse_tuple(data):\n",
    "    # isinstance is used to check if an object is a certain type\n",
    "    # returns true if it is the case\n",
    "    if isinstance(data,tuple) and len(data) == 3:\n",
    "        node = TreeNode(data[1])\n",
    "        node.left = parse_tuple(data[0])\n",
    "        node.right = parse_tuple(data[2])\n",
    "    elif data is None:\n",
    "        node = None\n",
    "    else:\n",
    "        node = TreeNode(data)\n",
    "    return node"
   ]
  },
  {
   "cell_type": "code",
   "execution_count": 15,
   "id": "40eb9305-67fc-42b8-b9e8-26a5196be94e",
   "metadata": {},
   "outputs": [],
   "source": [
    "# inorder traversal of the binary tree\n",
    "def inorder(node):\n",
    "    if node is None:\n",
    "        return []\n",
    "    return (inorder(node.left) + [node.key] + \n",
    "            inorder(node.right))"
   ]
  },
  {
   "cell_type": "code",
   "execution_count": 16,
   "id": "689d935f-d454-4107-8bf8-0a8b1fffe027",
   "metadata": {},
   "outputs": [],
   "source": [
    "# preorder traversal of the binary tree\n",
    "def preorder(node):\n",
    "    if node is None:\n",
    "        return []\n",
    "    return ([node.key] + preorder(node.left) + preorder(node.right))"
   ]
  },
  {
   "cell_type": "code",
   "execution_count": 17,
   "id": "777e7fc3-fd87-4f81-8edc-d45c23492429",
   "metadata": {},
   "outputs": [],
   "source": [
    "# post order traversal of the binary tree\n",
    "def postorder(node):\n",
    "    if node is None:\n",
    "        return []\n",
    "    return (postorder(node.left) + postorder(node.right) + [node.key])"
   ]
  },
  {
   "cell_type": "code",
   "execution_count": 40,
   "id": "1e7d51bf-abd1-4519-b106-9ebb5406afcd",
   "metadata": {},
   "outputs": [],
   "source": [
    "class TreeNode():\n",
    "    def __init__(self,key):\n",
    "        self.key = key\n",
    "        self.left = None\n",
    "        self.right = None\n",
    "\n",
    "    # Function to find the height of the tree\n",
    "    def tree_height(self):\n",
    "        if self is None:\n",
    "            return 0\n",
    "        return 1 + max(TreeNode.tree_height(self.left),TreeNode.tree_height(self.right))\n",
    "\n",
    "    # Function to find the size of the tree\n",
    "    def tree_size(self):\n",
    "        if self is None:\n",
    "            return 0\n",
    "        return 1 + TreeNode.tree_size(self.left) + TreeNode.tree_size(self.right)\n",
    "    \n",
    "    # Inorder traversal of the binary tree    \n",
    "    def inorder(self):\n",
    "        if self is None:\n",
    "            return []\n",
    "        return (inorder(self.left) + [self.key] + \n",
    "            inorder(self.right))\n",
    "\n",
    "    \n",
    "    # Preorder traversal of the binary tree\n",
    "    def preorder(self):\n",
    "        if self is None:\n",
    "            return []\n",
    "        return ([self.key] + preorder(self.left) + preorder(self.right))\n",
    "\n",
    "\n",
    "    # Post order traversal of the binary tree\n",
    "    def postorder(self):\n",
    "        if self is None:\n",
    "            return []\n",
    "        return (postorder(self.left) + postorder(self.right) + [self.key])\n",
    "\n",
    "    \n",
    "    # For formatting\n",
    "    def __str__(self):\n",
    "        return \"BinaryTree <{}>\".format(self.to_tuple())\n",
    "\n",
    "\n",
    "    # For the representation\n",
    "    def __repr__(self):\n",
    "        return \"BinaryTree <{}>\".format(self.to_tuple())\n",
    "\n",
    "    def to_tuple(self):\n",
    "        if self is None:\n",
    "            return None\n",
    "        if self.left is None and self.right is None:\n",
    "            return self.key\n",
    "        return TreeNode.to_tuple(self.left),  self.key, TreeNode.to_tuple(self.right)\n",
    "\n",
    "    \n",
    "    @staticmethod\n",
    "    def parse_tuple(data):\n",
    "    # isinstance is used to check if an object is a certain type\n",
    "    # returns true if it is the case\n",
    "        if data is None:\n",
    "            node = None\n",
    "        elif isinstance(data,tuple) and len(data) == 3:\n",
    "            node = TreeNode(data[1])\n",
    "            node.left = TreeNode.parse_tuple(data[0])\n",
    "            node.right = TreeNode.parse_tuple(data[2])\n",
    "        else:\n",
    "            node = TreeNode(data)\n",
    "        return node"
   ]
  },
  {
   "cell_type": "code",
   "execution_count": 41,
   "id": "d32b9833-6689-4609-bf70-8add3da07d80",
   "metadata": {},
   "outputs": [],
   "source": [
    "tree = TreeNode.parse_tuple(tree_tuple)\n"
   ]
  },
  {
   "cell_type": "code",
   "execution_count": 42,
   "id": "54380af4-04fb-4530-8571-51710adc487c",
   "metadata": {},
   "outputs": [
    {
     "data": {
      "text/plain": [
       "BinaryTree <((1, 3, None), 2, ((None, 3, 4), 5, (6, 7, 8)))>"
      ]
     },
     "execution_count": 42,
     "metadata": {},
     "output_type": "execute_result"
    }
   ],
   "source": [
    "tree"
   ]
  },
  {
   "cell_type": "code",
   "execution_count": 43,
   "id": "698f3cf7-64a6-46df-a204-886d35371c9f",
   "metadata": {},
   "outputs": [
    {
     "data": {
      "text/plain": [
       "4"
      ]
     },
     "execution_count": 43,
     "metadata": {},
     "output_type": "execute_result"
    }
   ],
   "source": [
    "tree.tree_height()"
   ]
  },
  {
   "cell_type": "code",
   "execution_count": 44,
   "id": "6e690351-553a-48f2-956e-8899a1cb421e",
   "metadata": {},
   "outputs": [
    {
     "data": {
      "text/plain": [
       "9"
      ]
     },
     "execution_count": 44,
     "metadata": {},
     "output_type": "execute_result"
    }
   ],
   "source": [
    "tree.tree_size()"
   ]
  }
 ],
 "metadata": {
  "kernelspec": {
   "display_name": "Python 3 (ipykernel)",
   "language": "python",
   "name": "python3"
  },
  "language_info": {
   "codemirror_mode": {
    "name": "ipython",
    "version": 3
   },
   "file_extension": ".py",
   "mimetype": "text/x-python",
   "name": "python",
   "nbconvert_exporter": "python",
   "pygments_lexer": "ipython3",
   "version": "3.13.4"
  }
 },
 "nbformat": 4,
 "nbformat_minor": 5
}
