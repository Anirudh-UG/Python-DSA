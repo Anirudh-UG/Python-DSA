{
 "cells": [
  {
   "cell_type": "markdown",
   "id": "6b18310a-298a-4e11-ab6e-0ab2399ddb6c",
   "metadata": {},
   "source": [
    "# Question\n",
    "Implement a **Binary Tree** with all of its properties, and show its usage with an example.  "
   ]
  },
  {
   "cell_type": "code",
   "execution_count": 1,
   "id": "ed99a34f-7c4e-41c2-a83f-f6359ae207e5",
   "metadata": {},
   "outputs": [],
   "source": [
    "#Here's a simple class representing a node within a binary tree\n",
    "\n",
    "class TreeNode:\n",
    "    def __init__(self,key):\n",
    "        self.key = key\n",
    "        self.left = None\n",
    "        self.right = None"
   ]
  },
  {
   "cell_type": "code",
   "execution_count": 2,
   "id": "2978d1f1-e0fc-4ee8-94a7-3c4fc2d9c8ca",
   "metadata": {},
   "outputs": [],
   "source": [
    "node0 = TreeNode(3)\n",
    "node1 = TreeNode(4)\n",
    "node2 = TreeNode(5)"
   ]
  },
  {
   "cell_type": "code",
   "execution_count": 3,
   "id": "ef1c3d8c-9522-4c23-82fe-395ca099e748",
   "metadata": {},
   "outputs": [
    {
     "data": {
      "text/plain": [
       "<__main__.TreeNode at 0x7fffd3c79010>"
      ]
     },
     "execution_count": 3,
     "metadata": {},
     "output_type": "execute_result"
    }
   ],
   "source": [
    "node0"
   ]
  },
  {
   "cell_type": "code",
   "execution_count": 4,
   "id": "f30be23d-4e63-40d1-9789-8916de3bca7b",
   "metadata": {},
   "outputs": [
    {
     "data": {
      "text/plain": [
       "3"
      ]
     },
     "execution_count": 4,
     "metadata": {},
     "output_type": "execute_result"
    }
   ],
   "source": [
    "node0.key"
   ]
  },
  {
   "cell_type": "code",
   "execution_count": 5,
   "id": "75ef0c96-0816-426a-9123-b8d35c7ebaee",
   "metadata": {},
   "outputs": [],
   "source": [
    "node1.left = node0\n",
    "node1.right = node2"
   ]
  },
  {
   "cell_type": "code",
   "execution_count": 8,
   "id": "d65b124a-7067-4f1e-b283-08eb5e5a2f6d",
   "metadata": {},
   "outputs": [],
   "source": [
    "# Now we create a pointer that is used to track the positions of the elements\n",
    "pointer = node1"
   ]
  },
  {
   "cell_type": "code",
   "execution_count": 9,
   "id": "a521b8bb-49a1-4009-aaca-ea59aa16d179",
   "metadata": {},
   "outputs": [
    {
     "data": {
      "text/plain": [
       "4"
      ]
     },
     "execution_count": 9,
     "metadata": {},
     "output_type": "execute_result"
    }
   ],
   "source": [
    "pointer.key"
   ]
  },
  {
   "cell_type": "code",
   "execution_count": 10,
   "id": "0124db66-0462-4eee-b763-ba5d94693101",
   "metadata": {},
   "outputs": [
    {
     "data": {
      "text/plain": [
       "3"
      ]
     },
     "execution_count": 10,
     "metadata": {},
     "output_type": "execute_result"
    }
   ],
   "source": [
    "pointer.left.key"
   ]
  },
  {
   "cell_type": "markdown",
   "id": "60130d0d-72b3-4079-ac5f-f3ad621929ca",
   "metadata": {},
   "source": [
    "Manually Adding Data can be tedious, therefore, we design a helper function, which can convert a tuple with the structure (left_subtree,key,right_subtree), **Where left_subtree and right sub_tree are themselves tuples**, into a binary tree. "
   ]
  },
  {
   "cell_type": "code",
   "execution_count": 11,
   "id": "0cbf0026-8cff-45f1-986b-c01db585b634",
   "metadata": {},
   "outputs": [],
   "source": [
    "tree_tuple = ((1,3,None),2,((None,3,4),5,(6,7,8)))"
   ]
  },
  {
   "cell_type": "code",
   "execution_count": 15,
   "id": "80f7cd78-cceb-46be-bad0-01a9a7615e43",
   "metadata": {},
   "outputs": [],
   "source": [
    "def parse_tuple(data):\n",
    "    # isinstance is used to check if an object is a certain type\n",
    "    # returns true if it is the case\n",
    "    if isinstance(data,tuple) and len(data) == 3:\n",
    "        node = TreeNode(data[1])\n",
    "        node.left = parse_tuple(data[0])\n",
    "        node.right = parse_tuple(data[2])\n",
    "    elif data is None:\n",
    "        node = None\n",
    "    else:\n",
    "        node = TreeNode(data)\n",
    "    return node"
   ]
  },
  {
   "cell_type": "code",
   "execution_count": 16,
   "id": "40eb9305-67fc-42b8-b9e8-26a5196be94e",
   "metadata": {},
   "outputs": [],
   "source": [
    "# inorder traversal of the \n",
    "def inorder(node):\n",
    "    if node is None:\n",
    "        return []\n",
    "    return (inorder(node.left) +\n",
    "            [node.key] + \n",
    "            inorder(node.right))"
   ]
  },
  {
   "cell_type": "code",
   "execution_count": 18,
   "id": "689d935f-d454-4107-8bf8-0a8b1fffe027",
   "metadata": {},
   "outputs": [],
   "source": [
    "def preorder(node):\n",
    "    if node is None:\n",
    "        return []\n",
    "    return ([node.key] + preorder(node.left) + preorder(node.right))"
   ]
  },
  {
   "cell_type": "code",
   "execution_count": null,
   "id": "777e7fc3-fd87-4f81-8edc-d45c23492429",
   "metadata": {},
   "outputs": [],
   "source": []
  }
 ],
 "metadata": {
  "kernelspec": {
   "display_name": "Python 3 (ipykernel)",
   "language": "python",
   "name": "python3"
  },
  "language_info": {
   "codemirror_mode": {
    "name": "ipython",
    "version": 3
   },
   "file_extension": ".py",
   "mimetype": "text/x-python",
   "name": "python",
   "nbconvert_exporter": "python",
   "pygments_lexer": "ipython3",
   "version": "3.13.4"
  }
 },
 "nbformat": 4,
 "nbformat_minor": 5
}
