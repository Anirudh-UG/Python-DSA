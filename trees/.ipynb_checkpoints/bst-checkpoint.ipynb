{
 "cells": [
  {
   "cell_type": "markdown",
   "id": "11f780f5-25d3-4d70-ba56-1d69e9cda21a",
   "metadata": {},
   "source": [
    "# Explanation\n",
    "\n",
    "- This Python program checks whether a given binary tree is a **Binary Search Tree (BST)**.\n",
    "- It defines a `Node` class that stores:\n",
    "  - The node’s value.\n",
    "  - Links to the node’s left and right children.\n",
    "- The main function `is_bst` is used to verify whether the tree satisfies BST properties.\n",
    "- The function uses two additional parameters:\n",
    "  - `min_value`: the minimum allowed value for the current node.\n",
    "  - `max_value`: the maximum allowed value for the current node.\n",
    "- Initially, these parameters start with:\n",
    "  - Negative infinity as the minimum.\n",
    "  - Positive infinity as the maximum.\n",
    "- The function logic:\n",
    "  - If the current node is `None`, it returns `True` (an empty tree is valid).\n",
    "  - If the node’s value is not within the allowed range, it returns `False`.\n",
    "- The function recursively:\n",
    "  - Checks the left subtree, updating the maximum allowed value to the current node’s value.\n",
    "  - Checks the right subtree, updating the minimum allowed value to the current node’s value.\n",
    "- Both left and right subtrees must satisfy the BST conditions for the entire tree to be valid.\n",
    "- The program builds an example tree and starts the check from the root node.\n",
    "- If all conditions are satisfied:\n",
    "  - The function prints `True`.\n",
    "- Otherwise:\n",
    "  - It prints `False`.\n"
   ]
  },
  {
   "cell_type": "code",
   "execution_count": 6,
   "id": "a7c521c9-4f29-4c79-a20c-47318813190c",
   "metadata": {},
   "outputs": [],
   "source": [
    "class Node:\n",
    "    def __init__(self,value):\n",
    "        self.value = value\n",
    "        self.left = None\n",
    "        self.right = None"
   ]
  },
  {
   "cell_type": "code",
   "execution_count": 3,
   "id": "643ec973-2320-4325-b3d1-c31329c4b3ea",
   "metadata": {},
   "outputs": [],
   "source": [
    "def is_bst(node,min_value=float('-inf'),max_value=float('inf')):\n",
    "    if node is None:\n",
    "        return True\n",
    "    if not (min_value < node.value < max_value):\n",
    "        return False\n",
    "    return (is_bst(node.left,min_value,node.value) and\n",
    "           is_bst(node.right,node.value,max_value))"
   ]
  },
  {
   "cell_type": "code",
   "execution_count": 4,
   "id": "3b574af2-3d8d-4527-bd09-bc2d267d6262",
   "metadata": {},
   "outputs": [],
   "source": [
    "root = Node(10)\n",
    "root.left = Node(5)\n",
    "root.right = Node(15)\n",
    "root.right.left = Node(12)\n",
    "root.right.right = Node(20)"
   ]
  },
  {
   "cell_type": "code",
   "execution_count": 5,
   "id": "7df1a346-0165-4124-ab4c-d2a1aeb01571",
   "metadata": {},
   "outputs": [
    {
     "name": "stdout",
     "output_type": "stream",
     "text": [
      "True\n"
     ]
    }
   ],
   "source": [
    "print(is_bst(root))"
   ]
  },
  {
   "cell_type": "code",
   "execution_count": null,
   "id": "1dc1ce42-cc08-4097-88ed-9611fc7f019e",
   "metadata": {},
   "outputs": [],
   "source": []
  }
 ],
 "metadata": {
  "kernelspec": {
   "display_name": "Python 3 (ipykernel)",
   "language": "python",
   "name": "python3"
  },
  "language_info": {
   "codemirror_mode": {
    "name": "ipython",
    "version": 3
   },
   "file_extension": ".py",
   "mimetype": "text/x-python",
   "name": "python",
   "nbconvert_exporter": "python",
   "pygments_lexer": "ipython3",
   "version": "3.13.4"
  }
 },
 "nbformat": 4,
 "nbformat_minor": 5
}
