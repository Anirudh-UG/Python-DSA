{
 "cells": [
  {
   "cell_type": "markdown",
   "id": "d07ebbb0-de60-4bf9-a65e-4bcfe08e9d5e",
   "metadata": {},
   "source": [
    "# Binary Search Tree (BST)\n",
    "## What is a Binary Search Tree?\n",
    "- A Binary Search Tree (BST) is a specialized type of binary tree.\n",
    "- Each node in a BST has at most two child nodes: a left child and a right child.\n",
    "- The key property of a BST:\n",
    "  - All nodes in the left subtree must have values less than the parent node’s value.\n",
    "  - All nodes in the right subtree must have values greater than the parent node’s value.\n",
    "\n",
    "## Properties of a Binary Search Tree\n",
    "- Left Subtree Rule: Every node in the left subtree must have a smaller value than its parent node.\n",
    "- Right Subtree Rule: Every node in the right subtree must have a larger value than its parent node.\n",
    "- No Duplicate Values: In a standard BST, duplicate values are typically not allowed.\n",
    "- Recursive Structure: Each subtree of a BST is also a valid BST.\n",
    "- Efficient Search: Search operations can generally be performed in O(log n) time in a balanced BST.\n",
    "\n",
    "## Common Operations on a Binary Search Tree\n",
    "- Search: Begin at the root. Traverse left if the target value is smaller, or right if the target value is larger.\n",
    "- Insert: Add new nodes in the correct position to maintain the BST property.\n",
    "- Delete: Remove nodes and restructure the tree to preserve the BST property.\n",
    "- Traversal Methods:\n",
    "  - Inorder Traversal (left, root, right): Retrieves nodes in sorted order.\n",
    "  - Preorder Traversal (root, left, right).\n",
    "  - Postorder Traversal (left, right, root).\n",
    "\n",
    "## Advantages of Binary Search Trees\n",
    "- Faster search times compared to linear data structures like arrays and linked lists.\n",
    "- Suitable for efficient range-based queries.\n",
    "- Supports dynamic insertion and deletion of elements.\n",
    "\n",
    "## Limitations of Binary Search Trees\n",
    "- Unbalanced Trees: If not balanced, the time complexity for search operations can degrade to O(n).\n",
    "- Solution: Self-balancing trees such as AVL trees or Red-Black trees can maintain optimal performance by automatically rebalancing the tree.\n",
    "\n",
    "## Summary\n",
    "- A Binary Search Tree is a binary tree where all nodes in the left subtree are smaller than the parent node, and all nodes in the right subtree are larger.\n",
    "- BSTs provide efficient search, insertion, and deletion operations when balanced.\n",
    "- Binary Search Trees are widely used in searching, sorting, and database indexing applications.\n"
   ]
  },
  {
   "cell_type": "markdown",
   "id": "11f780f5-25d3-4d70-ba56-1d69e9cda21a",
   "metadata": {},
   "source": [
    "# Explanation\n",
    "\n",
    "- This Python program checks whether a given binary tree is a **Binary Search Tree (BST)**.\n",
    "- It defines a `Node` class that stores:\n",
    "  - The node’s value.\n",
    "  - Links to the node’s left and right children.\n",
    "- The main function `is_bst` is used to verify whether the tree satisfies BST properties.\n",
    "- The function uses two additional parameters:\n",
    "  - `min_value`: the minimum allowed value for the current node.\n",
    "  - `max_value`: the maximum allowed value for the current node.\n",
    "- Initially, these parameters start with:\n",
    "  - Negative infinity as the minimum.\n",
    "  - Positive infinity as the maximum.\n",
    "- The function logic:\n",
    "  - If the current node is `None`, it returns `True` (an empty tree is valid).\n",
    "  - If the node’s value is not within the allowed range, it returns `False`.\n",
    "- The function recursively:\n",
    "  - Checks the left subtree, updating the maximum allowed value to the current node’s value.\n",
    "  - Checks the right subtree, updating the minimum allowed value to the current node’s value.\n",
    "- Both left and right subtrees must satisfy the BST conditions for the entire tree to be valid.\n",
    "- The program builds an example tree and starts the check from the root node.\n",
    "- If all conditions are satisfied:\n",
    "  - The function prints `True`.\n",
    "- Otherwise:\n",
    "  - It prints `False`.\n"
   ]
  },
  {
   "cell_type": "code",
   "execution_count": 1,
   "id": "a7c521c9-4f29-4c79-a20c-47318813190c",
   "metadata": {},
   "outputs": [],
   "source": [
    "class Node:\n",
    "    def __init__(self,value):\n",
    "        self.value = value\n",
    "        self.left = None\n",
    "        self.right = None"
   ]
  },
  {
   "cell_type": "code",
   "execution_count": 7,
   "id": "643ec973-2320-4325-b3d1-c31329c4b3ea",
   "metadata": {},
   "outputs": [],
   "source": [
    "def is_binary_search_tree(node,min_value=float('-inf'),max_value=float('inf')):\n",
    "    if node is None:\n",
    "        return True\n",
    "    if not (min_value < node.value < max_value):\n",
    "        return False\n",
    "    return (is_binary_search_tree(node.left,min_value,node.value) and\n",
    "           is_binary_search_tree(node.right,node.value,max_value))"
   ]
  },
  {
   "cell_type": "code",
   "execution_count": 8,
   "id": "3b574af2-3d8d-4527-bd09-bc2d267d6262",
   "metadata": {},
   "outputs": [],
   "source": [
    "root = Node(10)\n",
    "root.left = Node(5)\n",
    "root.right = Node(15)\n",
    "root.right.left = Node(12)\n",
    "root.right.right = Node(20)"
   ]
  },
  {
   "cell_type": "code",
   "execution_count": 9,
   "id": "7df1a346-0165-4124-ab4c-d2a1aeb01571",
   "metadata": {},
   "outputs": [
    {
     "name": "stdout",
     "output_type": "stream",
     "text": [
      "True\n"
     ]
    }
   ],
   "source": [
    "print(is_binary_search_tree(root))"
   ]
  },
  {
   "cell_type": "markdown",
   "id": "1fe986e7-d023-44fd-a210-07560ae3e9d5",
   "metadata": {},
   "source": [
    "# We use the same implementation of Binary Trees to build Binary Search Trees"
   ]
  },
  {
   "cell_type": "code",
   "execution_count": 10,
   "id": "56af6d95-8508-4ffa-a73b-e71bcb47fb6f",
   "metadata": {},
   "outputs": [],
   "source": [
    "class TreeNode():\n",
    "    def __init__(self,key):\n",
    "        self.key = key\n",
    "        self.left = None\n",
    "        self.right = None\n",
    "\n",
    "    # Function to find the height of the tree\n",
    "    def tree_height(self):\n",
    "        if self is None:\n",
    "            return 0\n",
    "        return 1 + max(TreeNode.tree_height(self.left),TreeNode.tree_height(self.right))\n",
    "\n",
    "    # Function to find the size of the tree\n",
    "    def tree_size(self):\n",
    "        if self is None:\n",
    "            return 0\n",
    "        return 1 + TreeNode.tree_size(self.left) + TreeNode.tree_size(self.right)\n",
    "    \n",
    "    # Inorder traversal of the binary tree    \n",
    "    def inorder(self):\n",
    "        if self is None:\n",
    "            return []\n",
    "        return (inorder(self.left) + [self.key] + \n",
    "            inorder(self.right))\n",
    "\n",
    "    \n",
    "    # Preorder traversal of the binary tree\n",
    "    def preorder(self):\n",
    "        if self is None:\n",
    "            return []\n",
    "        return ([self.key] + preorder(self.left) + preorder(self.right))\n",
    "\n",
    "\n",
    "    # Post order traversal of the binary tree\n",
    "    def postorder(self):\n",
    "        if self is None:\n",
    "            return []\n",
    "        return (postorder(self.left) + postorder(self.right) + [self.key])\n",
    "\n",
    "    \n",
    "    # For formatting\n",
    "    def __str__(self):\n",
    "        return \"BinaryTree <{}>\".format(self.to_tuple())\n",
    "\n",
    "\n",
    "    # For the representation\n",
    "    def __repr__(self):\n",
    "        return \"BinaryTree <{}>\".format(self.to_tuple())\n",
    "\n",
    "    def to_tuple(self):\n",
    "        if self is None:\n",
    "            return None\n",
    "        if self.left is None and self.right is None:\n",
    "            return self.key\n",
    "        return TreeNode.to_tuple(self.left),  self.key, TreeNode.to_tuple(self.right)\n",
    "\n",
    "    \n",
    "    @staticmethod\n",
    "    def parse_tuple(data):\n",
    "    # isinstance is used to check if an object is a certain type\n",
    "    # returns true if it is the case\n",
    "        if data is None:\n",
    "            node = None\n",
    "        elif isinstance(data,tuple) and len(data) == 3:\n",
    "            node = TreeNode(data[1])\n",
    "            node.left = TreeNode.parse_tuple(data[0])\n",
    "            node.right = TreeNode.parse_tuple(data[2])\n",
    "        else:\n",
    "            node = TreeNode(data)\n",
    "        return node"
   ]
  },
  {
   "cell_type": "code",
   "execution_count": 60,
   "id": "e1aa3a02-7719-43bf-93ee-65094caffa4c",
   "metadata": {},
   "outputs": [],
   "source": [
    "def tree_size(self):\n",
    "        if self is None:\n",
    "            return 0\n",
    "        return 1 + TreeNode.tree_size(self.left) + TreeNode.tree_size(self.right)\n",
    "\n",
    "def remove_null(nums):\n",
    "    return [x for x in nums if x is not None]\n",
    "\n",
    "def is_bst(node):\n",
    "    if node is None:\n",
    "        return True, None, None\n",
    "    \n",
    "    is_bst_l, min_l, max_l = is_bst(node.left)\n",
    "    is_bst_r, min_r, max_r = is_bst(node.right)\n",
    "\n",
    "    is_bst_node = (is_bst_l and is_bst_r and \n",
    "                  (max_l is None or node.key > max_l) and\n",
    "                   (min_r is None or node.key < min_r))\n",
    "\n",
    "    min_key = min(remove_none([min_l,node.key,min_r]))\n",
    "    max_key = max(remove_none([max_l,node.key,max_r]))\n",
    "\n",
    "\n",
    "    return is_bst_node,min_key,max_key"
   ]
  },
  {
   "cell_type": "markdown",
   "id": "9459e848-ce1c-43f6-bd6d-98de21d481cf",
   "metadata": {},
   "source": [
    "## Storing Key-Value Pairs using BSTs\n",
    "\n",
    "Note that we need to store user objects with each key in our BST. Let's define new class `BSTNode` to represent the nodes of of our tree. Apart from having properties `key`, `left` and `right`, we'll also store a `value` and pointer to the parent node (for easier upward traversal)."
   ]
  },
  {
   "cell_type": "code",
   "execution_count": 61,
   "id": "221f7050-b471-47ff-8466-026d4b27b7a2",
   "metadata": {},
   "outputs": [],
   "source": [
    "class User:\n",
    "    def __init__(self, username, name, email):\n",
    "        self.username = username\n",
    "        self.name = name\n",
    "        self.email = email\n",
    "        \n",
    "    def __repr__(self):\n",
    "        return \"User(username='{}', name='{}', email='{}')\".format(self.username, self.name, self.email)\n",
    "    \n",
    "    def __str__(self):\n",
    "        return self.__repr__()\n",
    "\n",
    "        \n",
    "class BSTNode():\n",
    "    def __init__(self,key,value=None):\n",
    "        self.key = key\n",
    "        self.value = value\n",
    "        self.left = None\n",
    "        self.right = None\n",
    "        self.parent = None\n"
   ]
  },
  {
   "cell_type": "code",
   "execution_count": 62,
   "id": "bcb4c36d-b353-400a-9fb5-5a5998d7c54d",
   "metadata": {},
   "outputs": [],
   "source": [
    "aakash = User('aakash', 'Aakash Rai', 'aakash@example.com')\n",
    "biraj = User('biraj', 'Biraj Das', 'biraj@example.com')\n",
    "hemanth = User('hemanth', 'Hemanth Jain', 'hemanth@example.com')\n",
    "jadhesh = User('jadhesh', 'Jadhesh Verma', 'jadhesh@example.com')\n",
    "siddhant = User('siddhant', 'Siddhant Sinha', 'siddhant@example.com')\n",
    "sonaksh = User('sonaksh', 'Sonaksh Kumar', 'sonaksh@example.com')\n",
    "vishal = User('vishal', 'Vishal Goel', 'vishal@example.com')"
   ]
  },
  {
   "cell_type": "code",
   "execution_count": 63,
   "id": "a1a7299d-c59f-4047-b83a-9af77bd0ddc2",
   "metadata": {},
   "outputs": [],
   "source": [
    "users = [aakash, biraj, hemanth, jadhesh, siddhant, sonaksh, vishal]"
   ]
  },
  {
   "cell_type": "code",
   "execution_count": 64,
   "id": "ef58821c-86b8-499f-bda4-e728556fbf40",
   "metadata": {},
   "outputs": [],
   "source": [
    "# Level 0\n",
    "tree = BSTNode(jadhesh.username,jadhesh)"
   ]
  },
  {
   "cell_type": "code",
   "execution_count": 65,
   "id": "06f4f966-e529-43ff-9d10-6753672dcef3",
   "metadata": {},
   "outputs": [
    {
     "data": {
      "text/plain": [
       "('jadhesh',\n",
       " User(username='jadhesh', name='Jadhesh Verma', email='jadhesh@example.com'))"
      ]
     },
     "execution_count": 65,
     "metadata": {},
     "output_type": "execute_result"
    }
   ],
   "source": [
    "tree.key, tree.value"
   ]
  },
  {
   "cell_type": "code",
   "execution_count": 66,
   "id": "e802cd52-a1d8-4b9a-a32f-3a12e824e810",
   "metadata": {},
   "outputs": [],
   "source": [
    "tree.left = BSTNode(biraj.username,biraj)\n",
    "tree.left.parent = tree\n",
    "tree.right = BSTNode(sonaksh.username,sonaksh)\n",
    "tree.right.parent = tree"
   ]
  },
  {
   "cell_type": "code",
   "execution_count": 67,
   "id": "3a052b57-88ca-4e09-b2b6-73f0b8d51744",
   "metadata": {},
   "outputs": [
    {
     "data": {
      "text/plain": [
       "('biraj',\n",
       " User(username='biraj', name='Biraj Das', email='biraj@example.com'),\n",
       " 'sonaksh',\n",
       " User(username='sonaksh', name='Sonaksh Kumar', email='sonaksh@example.com'))"
      ]
     },
     "execution_count": 67,
     "metadata": {},
     "output_type": "execute_result"
    }
   ],
   "source": [
    "tree.left.key, tree.left.value, tree.right.key, tree.right.value"
   ]
  },
  {
   "cell_type": "markdown",
   "id": "288e43e2-d600-44ab-b452-34cc1b08dc2e",
   "metadata": {},
   "source": [
    "### Insertion into BST\n",
    "\n",
    "\n",
    "> **QUESTION**: Write a function to insert a new node into a BST.\n",
    "\n",
    "\n",
    "We use the BST-property to perform insertion efficiently: \n",
    "\n",
    "1. Starting from the root node, we compare the key to be inserted with the current node's key\n",
    "2. If the key is smaller, we recursively insert it in the left subtree (if it exists) or attach it as as the left child if no left subtree exists.\n",
    "3. If the key is larger, we recursively insert it in the right subtree (if it exists) or attach it as as the right child if no right subtree exists.\n",
    "\n",
    "Here's a recursive implementation of `insert`."
   ]
  },
  {
   "cell_type": "code",
   "execution_count": 68,
   "id": "9cd9c4f0-8a2a-4985-922d-d93c97664749",
   "metadata": {},
   "outputs": [],
   "source": [
    "def insert(node,key,value):\n",
    "    if node is None:\n",
    "        node = BSTNode(key,value)\n",
    "    elif key < node.key:\n",
    "        node.left = insert(node.left,key,value)\n",
    "        node.left.parent = node\n",
    "    elif key > node.key:\n",
    "        node.right = insert(node.right, key, value)\n",
    "        node.right.parent = node\n",
    "    return node"
   ]
  },
  {
   "cell_type": "code",
   "execution_count": 69,
   "id": "7ebe55cb-8eab-4894-b3ca-01b6b2a61626",
   "metadata": {},
   "outputs": [],
   "source": [
    "tree = insert(None, jadhesh.username, jadhesh)"
   ]
  },
  {
   "cell_type": "code",
   "execution_count": 70,
   "id": "385febf4-6bf3-4d69-8323-ccf9d7b7a520",
   "metadata": {},
   "outputs": [
    {
     "data": {
      "text/plain": [
       "('jadhesh',\n",
       " User(username='jadhesh', name='Jadhesh Verma', email='jadhesh@example.com'))"
      ]
     },
     "execution_count": 70,
     "metadata": {},
     "output_type": "execute_result"
    }
   ],
   "source": [
    "tree.key,tree.value"
   ]
  },
  {
   "cell_type": "code",
   "execution_count": 71,
   "id": "3fae2b27-9775-494c-9f64-beb12c2ecd92",
   "metadata": {},
   "outputs": [
    {
     "data": {
      "text/plain": [
       "<__main__.BSTNode at 0x7fffd3c17bb0>"
      ]
     },
     "execution_count": 71,
     "metadata": {},
     "output_type": "execute_result"
    }
   ],
   "source": [
    "insert(tree,biraj.username,biraj)\n",
    "insert(tree,sonaksh.username,sonaksh)\n",
    "insert(tree,aakash.username,aakash)\n",
    "insert(tree,hemanth.username,hemanth)\n",
    "insert(tree,siddhant.username,siddhant)\n",
    "insert(tree,vishal.username,vishal)"
   ]
  },
  {
   "cell_type": "markdown",
   "id": "b8e3a873-b82c-4852-86cf-eadeb91e9589",
   "metadata": {},
   "source": [
    "\n",
    "Note, however, that the order of insertion of nodes change the structure of the resulting tree."
   ]
  },
  {
   "cell_type": "code",
   "execution_count": 72,
   "id": "2401ad06-285b-4c8c-8162-31e12f5b8b54",
   "metadata": {},
   "outputs": [
    {
     "data": {
      "text/plain": [
       "<__main__.BSTNode at 0x7fffd2d0d400>"
      ]
     },
     "execution_count": 72,
     "metadata": {},
     "output_type": "execute_result"
    }
   ],
   "source": [
    "tree2 = insert(None, aakash.username, aakash)\n",
    "insert(tree2, biraj.username, biraj)\n",
    "insert(tree2, hemanth.username, hemanth)\n",
    "insert(tree2, jadhesh.username, jadhesh)\n",
    "insert(tree2, siddhant.username, siddhant)\n",
    "insert(tree2, sonaksh.username, sonaksh)\n",
    "insert(tree2, vishal.username, vishal)"
   ]
  },
  {
   "cell_type": "markdown",
   "id": "815f5bee-3620-4988-9cd7-cd97d6dfa669",
   "metadata": {},
   "source": [
    "Can you see why the tree created above is skewed/unbalanced?\n",
    "\n",
    "<img src=\"https://i.imgur.com/lP5Thct.png\" width=\"520\">\n",
    "\n",
    "Skewed/unbalanced BSTs are problematic because the height of such trees often ceases to logarithmic compared to the number of nodes in the tree. For instance the above tree has 7 nodes and height 7.\n",
    "\n",
    "The length of the path traversed by `insert` is equal to the height of the tree (in the worst case). It follows that if the tree is balanced, the time complexity of insertion is `O(log N)` otherwise it is `O(N)`."
   ]
  },
  {
   "cell_type": "markdown",
   "id": "a9e21108-3ee6-4f36-9634-e87a4bc0d4f8",
   "metadata": {},
   "source": [
    "### Finding a Node in BST\n",
    "\n",
    "> **QUESTION**: Find the value associated with a given key in a BST.\n",
    "\n",
    "We can follow a recursive strategy similar to insertion to find the node with a given key within a BST."
   ]
  },
  {
   "cell_type": "code",
   "execution_count": 73,
   "id": "0c2ec834-955e-41f7-a0c3-48590768ece6",
   "metadata": {},
   "outputs": [],
   "source": [
    "def find(node, key):\n",
    "    if node is None:\n",
    "        return None\n",
    "    if key == node.key:\n",
    "        return node\n",
    "    if key < node.key:\n",
    "        return find(node.left, key)\n",
    "    if key > node.key:\n",
    "        return find(node.right, key)"
   ]
  },
  {
   "cell_type": "markdown",
   "id": "e0b3c852-ddb0-4951-9090-ba46aa09931f",
   "metadata": {},
   "source": [
    "### Updating a value in a BST\n",
    "\n",
    "> **QUESTION** Write a function to update the value associated with a given key within a BST\n",
    "\n",
    "We can use `find` to locate the node to be updated, and simply update it's value."
   ]
  },
  {
   "cell_type": "code",
   "execution_count": 74,
   "id": "7eb21087-27c4-4407-bf48-330773936e38",
   "metadata": {},
   "outputs": [],
   "source": [
    "def update(node,key,value):\n",
    "    target = find(node,key)\n",
    "    if target is not None:\n",
    "        target.value = value"
   ]
  },
  {
   "cell_type": "markdown",
   "id": "0aaae34b-b76d-45cc-b6db-463aee0b812f",
   "metadata": {},
   "source": [
    "### List the nodes\n",
    "\n",
    "> **QUESTION:** Write a function to retrieve all the key-values pairs stored in a BST in the sorted order of keys.\n",
    "\n",
    "The nodes can be listed in sorted order by performing an inorder traversal of the BST."
   ]
  },
  {
   "cell_type": "code",
   "execution_count": 75,
   "id": "7b1c2732-bdb5-4570-86c6-4b097b14b8d8",
   "metadata": {},
   "outputs": [],
   "source": [
    "def list_all(node):\n",
    "    if node is None:\n",
    "        return []\n",
    "    return list_all(node.left) + [(node.key,node.value)] + list_all(node.right)"
   ]
  },
  {
   "cell_type": "code",
   "execution_count": 76,
   "id": "88820938-50cd-471f-9783-6eb7af8c288d",
   "metadata": {},
   "outputs": [],
   "source": [
    "def is_balanced(node):\n",
    "    if node is None:\n",
    "        return True, 0\n",
    "    balanced_l, height_l = is_balanced(node.left)\n",
    "    balanced_r, height_r = is_balanced(node.right)\n",
    "    balanced = balanced_l and balanced_r and abs(height_l - height_r) <=1\n",
    "    height = 1 + max(height_l, height_r)\n",
    "    return balanced, height"
   ]
  },
  {
   "cell_type": "code",
   "execution_count": 77,
   "id": "9eecd314-93d6-43b1-b6bb-e96fc612924d",
   "metadata": {},
   "outputs": [
    {
     "data": {
      "text/plain": [
       "(True, 3)"
      ]
     },
     "execution_count": 77,
     "metadata": {},
     "output_type": "execute_result"
    }
   ],
   "source": [
    "is_balanced(tree)"
   ]
  },
  {
   "cell_type": "markdown",
   "id": "8dc797e3-f59b-4872-86ad-520fb6caf000",
   "metadata": {},
   "source": [
    "## Balanced Binary Search Trees\n",
    "\n",
    "> **QUESTION**: Write a function to create a balanced BST from a sorted list/array of key-value pairs.\n",
    "\n",
    "We can use a recursive strategy here, turning the middle element of the list into the root, and recursively creating left and right subtrees."
   ]
  },
  {
   "cell_type": "code",
   "execution_count": 78,
   "id": "0375e2a4-08ee-406e-b18a-8fea7a10b62c",
   "metadata": {},
   "outputs": [],
   "source": [
    "def make_balanced_bst(data,lo=0,hi=None,parent=None):\n",
    "    if hi is None:\n",
    "        hi = len(data) - 1\n",
    "    if lo > hi:\n",
    "        return None\n",
    "\n",
    "    mid = (lo + hi) // 2\n",
    "    key,value = data[mid]\n",
    "\n",
    "    root = BSTNode(key,value)\n",
    "    root.parent = parent\n",
    "    root.left = make_balanced_bst(data,lo,mid-1,root)\n",
    "    root.right = make_balanced_bst(data,mid+1,hi,root)\n",
    "\n",
    "    return root       "
   ]
  },
  {
   "cell_type": "code",
   "execution_count": 79,
   "id": "da3edf15-f0f9-4a43-a340-a5a8df2776fc",
   "metadata": {},
   "outputs": [],
   "source": [
    "data = [(user.username,user) for user in users]"
   ]
  },
  {
   "cell_type": "code",
   "execution_count": 80,
   "id": "71208307-c3d5-4279-8608-5ceec8f040aa",
   "metadata": {},
   "outputs": [
    {
     "data": {
      "text/plain": [
       "[('aakash',\n",
       "  User(username='aakash', name='Aakash Rai', email='aakash@example.com')),\n",
       " ('biraj',\n",
       "  User(username='biraj', name='Biraj Das', email='biraj@example.com')),\n",
       " ('hemanth',\n",
       "  User(username='hemanth', name='Hemanth Jain', email='hemanth@example.com')),\n",
       " ('jadhesh',\n",
       "  User(username='jadhesh', name='Jadhesh Verma', email='jadhesh@example.com')),\n",
       " ('siddhant',\n",
       "  User(username='siddhant', name='Siddhant Sinha', email='siddhant@example.com')),\n",
       " ('sonaksh',\n",
       "  User(username='sonaksh', name='Sonaksh Kumar', email='sonaksh@example.com')),\n",
       " ('vishal',\n",
       "  User(username='vishal', name='Vishal Goel', email='vishal@example.com'))]"
      ]
     },
     "execution_count": 80,
     "metadata": {},
     "output_type": "execute_result"
    }
   ],
   "source": [
    "data"
   ]
  },
  {
   "cell_type": "code",
   "execution_count": 81,
   "id": "841189e3-28b2-4ac6-94d6-4f39b0a63fd0",
   "metadata": {},
   "outputs": [
    {
     "data": {
      "text/plain": [
       "<__main__.BSTNode at 0x7fffd2c2caa0>"
      ]
     },
     "execution_count": 81,
     "metadata": {},
     "output_type": "execute_result"
    }
   ],
   "source": [
    "tree = make_balanced_bst(data)\n",
    "tree"
   ]
  },
  {
   "cell_type": "markdown",
   "id": "297fc312-f063-435e-a868-a0bb108e87e6",
   "metadata": {},
   "source": [
    "## Balancing an Unbalanced BST\n",
    "\n",
    "> **QUESTION:** Write a function to balance an unbalanced binary search tree.\n",
    "\n",
    "We first perform an inorder traversal, then create a balanced BST using the function defined earlier."
   ]
  },
  {
   "cell_type": "code",
   "execution_count": 82,
   "id": "5e02876b-4f10-407e-a712-9e3996282473",
   "metadata": {},
   "outputs": [],
   "source": [
    "def balance_bst(node):\n",
    "    return make_balanced_bst(list_all(node))"
   ]
  },
  {
   "cell_type": "markdown",
   "id": "432e6d36-0601-4673-b618-39f9714ad777",
   "metadata": {},
   "source": [
    "## A Python-Friendly Treemap \n",
    "\n",
    "We are now ready to return to our original problem statement.\n",
    "\n",
    "> **QUESTION 1**: As a senior backend engineer at Jovian, you are tasked with developing a fast in-memory data structure to manage profile information (username, name and email) for 100 million users. It should allow the following operations to be performed efficiently:\n",
    "> \n",
    "> 1. **Insert** the profile information for a new user.\n",
    "> 2. **Find** the profile information of a user, given their username\n",
    "> 3. **Update** the profile information of a user, given their usrname\n",
    "> 5. **List** all the users of the platform, sorted by username\n",
    ">\n",
    "> You can assume that usernames are unique. \n",
    "\n",
    "\n",
    "\n",
    "We can create a generic class `TreeMap` which supports all the operations specified in the original problem statement in a python-friendly manner."
   ]
  },
  {
   "cell_type": "code",
   "execution_count": 83,
   "id": "c8e56aaa-e9d9-481b-8331-4a4df118d7ff",
   "metadata": {},
   "outputs": [],
   "source": [
    "class TreeMap():\n",
    "    def __init__(self):\n",
    "        self.root = None\n",
    "\n",
    "        \n",
    "    def __setitem__(self,key,value):\n",
    "        node = find(self.root,key)\n",
    "        if not node:\n",
    "            self.root = insert(self.root,key,value)\n",
    "            self.root = balance_bst(self.root)\n",
    "        else:\n",
    "            update(self.root,key,value)\n",
    "\n",
    "    def __getitem__(self,key):\n",
    "        node = find(self.root,key)\n",
    "        return node.value if node else None\n",
    "\n",
    "        \n",
    "    def __iter__(self):\n",
    "        return (x for x in list_all(self.root))\n",
    "    \n",
    "    \n",
    "    def __len__(self):\n",
    "        return tree_size(self.root)"
   ]
  },
  {
   "cell_type": "code",
   "execution_count": 84,
   "id": "835709b4-3c61-4655-995b-6e7028f3357e",
   "metadata": {},
   "outputs": [
    {
     "data": {
      "text/plain": [
       "[User(username='aakash', name='Aakash Rai', email='aakash@example.com'),\n",
       " User(username='biraj', name='Biraj Das', email='biraj@example.com'),\n",
       " User(username='hemanth', name='Hemanth Jain', email='hemanth@example.com'),\n",
       " User(username='jadhesh', name='Jadhesh Verma', email='jadhesh@example.com'),\n",
       " User(username='siddhant', name='Siddhant Sinha', email='siddhant@example.com'),\n",
       " User(username='sonaksh', name='Sonaksh Kumar', email='sonaksh@example.com'),\n",
       " User(username='vishal', name='Vishal Goel', email='vishal@example.com')]"
      ]
     },
     "execution_count": 84,
     "metadata": {},
     "output_type": "execute_result"
    }
   ],
   "source": [
    "users"
   ]
  },
  {
   "cell_type": "code",
   "execution_count": 85,
   "id": "f2265479-a84d-43bf-9976-47ec4b9749cd",
   "metadata": {},
   "outputs": [],
   "source": [
    "treemap = TreeMap()"
   ]
  },
  {
   "cell_type": "code",
   "execution_count": 86,
   "id": "013f4513-e933-419b-af91-f34b15d89e7d",
   "metadata": {},
   "outputs": [],
   "source": [
    "treemap['aakash'] = aakash\n",
    "treemap['jadhesh'] = jadhesh\n",
    "treemap['sonaksh'] = sonaksh"
   ]
  },
  {
   "cell_type": "code",
   "execution_count": 87,
   "id": "a82673de-1589-4651-9364-0cf5ebdcf61d",
   "metadata": {},
   "outputs": [
    {
     "data": {
      "text/plain": [
       "3"
      ]
     },
     "execution_count": 87,
     "metadata": {},
     "output_type": "execute_result"
    }
   ],
   "source": [
    "len(treemap)"
   ]
  },
  {
   "cell_type": "code",
   "execution_count": 88,
   "id": "0732c55c-163a-4a78-a3aa-8360bb279cf6",
   "metadata": {},
   "outputs": [
    {
     "data": {
      "text/plain": [
       "User(username='aakash', name='Aakash Rai', email='aakash@example.com')"
      ]
     },
     "execution_count": 88,
     "metadata": {},
     "output_type": "execute_result"
    }
   ],
   "source": [
    "treemap['aakash']"
   ]
  }
 ],
 "metadata": {
  "kernelspec": {
   "display_name": "Python 3 (ipykernel)",
   "language": "python",
   "name": "python3"
  },
  "language_info": {
   "codemirror_mode": {
    "name": "ipython",
    "version": 3
   },
   "file_extension": ".py",
   "mimetype": "text/x-python",
   "name": "python",
   "nbconvert_exporter": "python",
   "pygments_lexer": "ipython3",
   "version": "3.13.4"
  }
 },
 "nbformat": 4,
 "nbformat_minor": 5
}
